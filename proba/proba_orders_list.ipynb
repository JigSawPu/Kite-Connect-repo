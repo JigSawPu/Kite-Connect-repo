{
 "cells": [
  {
   "cell_type": "code",
   "execution_count": 24,
   "id": "3fa8a0cd",
   "metadata": {},
   "outputs": [
    {
     "name": "stdout",
     "output_type": "stream",
     "text": [
      "[*********************100%***********************]  1 of 1 completed\n",
      "[*********************100%***********************]  1 of 1 completed\n"
     ]
    },
    {
     "name": "stderr",
     "output_type": "stream",
     "text": [
      "/tmp/ipykernel_5141/3365256499.py:20: SettingWithCopyWarning: \n",
      "A value is trying to be set on a copy of a slice from a DataFrame\n",
      "\n",
      "See the caveats in the documentation: https://pandas.pydata.org/pandas-docs/stable/user_guide/indexing.html#returning-a-view-versus-a-copy\n",
      "  orders_df['ticker value'][xx] = nifty[orders_df['order_timestamp'][xx] == nifty.index].Close\n",
      "/tmp/ipykernel_5141/3365256499.py:22: SettingWithCopyWarning: \n",
      "A value is trying to be set on a copy of a slice from a DataFrame\n",
      "\n",
      "See the caveats in the documentation: https://pandas.pydata.org/pandas-docs/stable/user_guide/indexing.html#returning-a-view-versus-a-copy\n",
      "  orders_df['ticker value'][xx] = banknifty[orders_df['order_timestamp'][xx] == nifty.index].Close\n"
     ]
    }
   ],
   "source": [
    "import numpy as np\n",
    "import pandas as pd\n",
    "import yfinance as yf\n",
    "from kiteconnect import KiteConnect\n",
    "import openpyxl\n",
    "\n",
    "kite = KiteConnect(api_key='XXXXXXXXXXXX')\n",
    "access_token = 'XXXXXXXXXXXXXXXXXXXXXXXX'\n",
    "kite.set_access_token(access_token)\n",
    "nifty, dummy_var1 = yf.download('^NSEI', period='1d', interval=\"1m\"), yf.download('^XXXXXX', period='1d', interval=\"1m\")\n",
    "nifty.index = pd.Series(nifty.index).dt.tz_localize(None)\n",
    "dummy_var1.index = pd.Series(dummy_var1.index).dt.tz_localize(None)\n",
    "orders_df = pd.DataFrame(kite.orders())\n",
    "orders_df['order_timestamp'] = pd.Series(orders_df['order_timestamp'].values).dt.floor('Min')\n",
    "orders_df = orders_df[orders_df['status'] == 'COMPLETE']\n",
    "orders_df.reset_index(drop=True, inplace=True)\n",
    "orders_df['ticker value'] = np.zeros(len(orders_df.index))\n",
    "for xx in range(len(orders_df.index)):\n",
    "    if orders_df['tradingsymbol'][xx][:5] == 'NIFTY':\n",
    "        orders_df['ticker value'][xx] = nifty[orders_df['order_timestamp'][xx] == nifty.index].Close\n",
    "    else:\n",
    "        orders_df['ticker value'][xx] = dummy_var1[orders_df['order_timestamp'][xx] == nifty.index].Close\n",
    "pre_df = pd.DataFrame()\n",
    "entrylist = orders_df[orders_df['transaction_type'] == 'BUY']\n",
    "exitlist = orders_df[orders_df['transaction_type'] == 'SELL']\n",
    "entrylist.reset_index(drop=True, inplace=True)\n",
    "exitlist.reset_index(drop=True, inplace=True)\n",
    "pre_df['ticker at entry'] = entrylist['ticker value']\n",
    "pre_df['timestamp at entry'] = entrylist['order_timestamp']\n",
    "pre_df['entry qnty'] = entrylist['filled_quantity']\n",
    "pre_df['entry price'] = entrylist['average_price']\n",
    "pre_df['ticker at exit'] = exitlist['ticker value']\n",
    "pre_df['timestamp at exit'] = exitlist['order_timestamp']\n",
    "pre_df['exit qnty'] = exitlist['filled_quantity']\n",
    "pre_df['exit price'] = exitlist['average_price']\n",
    "lowest_ticker_in_bw = []\n",
    "for cc in range(len(pre_df.index)):\n",
    "    if pre_df['timestamp at exit'].astype(str).values[cc] != 'NaT':\n",
    "        if (orders_df[orders_df['order_timestamp'] == pre_df['timestamp at exit'].astype(str).values[cc]].tradingsymbol.values[0][:5]) == 'NIFTY':    \n",
    "            lowest_ticker_in_bw.append(nifty[slice(pre_df['timestamp at entry'].astype(str).values[cc],\n",
    "                                                   pre_df['timestamp at exit'].astype(str).values[cc])]['Low'].min())\n",
    "        else:\n",
    "            lowest_ticker_in_bw.append(dummy_var1[slice(pre_df['timestamp at entry'].astype(str).values[cc],\n",
    "                                                   pre_df['timestamp at exit'].astype(str).values[cc])]['Low'].min())\n",
    "    else:\n",
    "        lowest_ticker_in_bw.append(0)\n",
    "pre_df['lowest ticker in bw'] = pd.Series(lowest_ticker_in_bw)\n",
    "highest_ticker_in_bw = []\n",
    "for cc in range(len(pre_df.index)):\n",
    "    if pre_df['timestamp at exit'].astype(str).values[cc] != 'NaT':\n",
    "        if (orders_df[orders_df['order_timestamp'] == pre_df['timestamp at exit'].astype(str).values[cc]].tradingsymbol.values[0][:5]) == 'NIFTY':     \n",
    "            highest_ticker_in_bw.append(nifty[slice(pre_df['timestamp at entry'].astype(str).values[cc],\n",
    "                                                    pre_df['timestamp at exit'].astype(str).values[cc])]['High'].max())\n",
    "        else:\n",
    "            highest_ticker_in_bw.append(dummy_var1[slice(pre_df['timestamp at entry'].astype(str).values[cc],\n",
    "                                                    pre_df['timestamp at exit'].astype(str).values[cc])]['High'].max())\n",
    "    else:\n",
    "        highest_ticker_in_bw.append(0)\n",
    "pre_df['highest ticker in bw'] = pd.Series(highest_ticker_in_bw)\n",
    "pre_df = pre_df[['entry price', 'exit price', 'ticker at entry',\n",
    "                 'ticker at exit', 'lowest ticker in bw', 'highest ticker in bw',\n",
    "                 'timestamp at entry', 'timestamp at exit', 'entry qnty', 'exit qnty']]"
   ]
  },
  {
   "cell_type": "code",
   "execution_count": 102,
   "id": "00c25ad6",
   "metadata": {},
   "outputs": [
    {
     "name": "stdout",
     "output_type": "stream",
     "text": [
      "[*********************100%***********************]  1 of 1 completed\n",
      "[*********************100%***********************]  1 of 1 completed\n"
     ]
    },
    {
     "name": "stderr",
     "output_type": "stream",
     "text": [
      "/tmp/ipykernel_13915/429447843.py:21: SettingWithCopyWarning: \n",
      "A value is trying to be set on a copy of a slice from a DataFrame\n",
      "\n",
      "See the caveats in the documentation: https://pandas.pydata.org/pandas-docs/stable/user_guide/indexing.html#returning-a-view-versus-a-copy\n",
      "  orders_df['ticker value'][xx] = nifty[orders_df['order_timestamp'][xx] == nifty.index].Close\n"
     ]
    }
   ],
   "source": [
    "starting_sheet = pd.read_excel('today_orders.xlsx')\n",
    "merged = pd.concat([starting_sheet,pre_df], ignore_index=True)\n",
    "merged.to_excel('today_orders.xlsx', index=False)"
   ]
  }
 ],
 "metadata": {
  "kernelspec": {
   "display_name": "Python 3.10.4 64-bit",
   "language": "python",
   "name": "python3"
  },
  "language_info": {
   "codemirror_mode": {
    "name": "ipython",
    "version": 3
   },
   "file_extension": ".py",
   "mimetype": "text/x-python",
   "name": "python",
   "nbconvert_exporter": "python",
   "pygments_lexer": "ipython3",
   "version": "3.10.4"
  },
  "vscode": {
   "interpreter": {
    "hash": "3ad933181bd8a04b432d3370b9dc3b0662ad032c4dfaa4e4f1596c548f763858"
   }
  }
 },
 "nbformat": 4,
 "nbformat_minor": 5
}
